{
 "cells": [
  {
   "cell_type": "markdown",
   "metadata": {},
   "source": [
    "#Fire up graphlab create"
   ]
  },
  {
   "cell_type": "code",
   "execution_count": null,
   "metadata": {
    "collapsed": true
   },
   "outputs": [],
   "source": [
    "import graphlab"
   ]
  },
  {
   "cell_type": "markdown",
   "metadata": {},
   "source": [
    "#Load some house sales data\n",
    "\n",
    "Dataset is from house sales in King County, the region where the city of Seattle, WA is located."
   ]
  },
  {
   "cell_type": "code",
   "execution_count": null,
   "metadata": {
    "collapsed": false
   },
   "outputs": [],
   "source": [
    "sales = graphlab.SFrame('home_data.gl/')"
   ]
  },
  {
   "cell_type": "code",
   "execution_count": null,
   "metadata": {
    "collapsed": false
   },
   "outputs": [],
   "source": [
    "sales"
   ]
  },
  {
   "cell_type": "markdown",
   "metadata": {},
   "source": [
    "#Exploring the data for housing sales "
   ]
  },
  {
   "cell_type": "markdown",
   "metadata": {},
   "source": [
    "The house price is correlated with the number of square feet of living space."
   ]
  },
  {
   "cell_type": "code",
   "execution_count": null,
   "metadata": {
    "collapsed": false
   },
   "outputs": [],
   "source": [
    "graphlab.canvas.set_target('ipynb')\n",
    "sales.show(view=\"Scatter Plot\", x=\"sqft_living\", y=\"price\")"
   ]
  },
  {
   "cell_type": "markdown",
   "metadata": {},
   "source": [
    "#Create a simple regression model of sqft_living to price"
   ]
  },
  {
   "cell_type": "markdown",
   "metadata": {},
   "source": [
    "Split data into training and testing.  \n",
    "We use seed=0 so that everyone running this notebook gets the same results.  In practice, you may set a random seed (or let GraphLab Create pick a random seed for you).  "
   ]
  },
  {
   "cell_type": "code",
   "execution_count": null,
   "metadata": {
    "collapsed": true
   },
   "outputs": [],
   "source": [
    "train_data,test_data = sales.random_split(.8,seed=0)"
   ]
  },
  {
   "cell_type": "markdown",
   "metadata": {},
   "source": [
    "##Build the regression model using only sqft_living as a feature"
   ]
  },
  {
   "cell_type": "code",
   "execution_count": null,
   "metadata": {
    "collapsed": false
   },
   "outputs": [],
   "source": [
    "sqft_model = graphlab.linear_regression.create(train_data, target='price', features=['sqft_living'],validation_set=None)"
   ]
  },
  {
   "cell_type": "markdown",
   "metadata": {},
   "source": [
    "#Evaluate the simple model"
   ]
  },
  {
   "cell_type": "code",
   "execution_count": null,
   "metadata": {
    "collapsed": false
   },
   "outputs": [],
   "source": [
    "print test_data['price'].mean()"
   ]
  },
  {
   "cell_type": "code",
   "execution_count": null,
   "metadata": {
    "collapsed": false
   },
   "outputs": [],
   "source": [
    "print sqft_model.evaluate(test_data)"
   ]
  },
  {
   "cell_type": "markdown",
   "metadata": {},
   "source": [
    "RMSE of about \\$255,170!"
   ]
  },
  {
   "cell_type": "markdown",
   "metadata": {},
   "source": [
    "#Let's show what our predictions look like"
   ]
  },
  {
   "cell_type": "markdown",
   "metadata": {},
   "source": [
    "Matplotlib is a Python plotting library that is also useful for plotting.  You can install it with:\n",
    "\n",
    "'pip install matplotlib'"
   ]
  },
  {
   "cell_type": "code",
   "execution_count": null,
   "metadata": {
    "collapsed": false
   },
   "outputs": [],
   "source": [
    "import matplotlib.pyplot as plt\n",
    "%matplotlib inline"
   ]
  },
  {
   "cell_type": "code",
   "execution_count": null,
   "metadata": {
    "collapsed": false
   },
   "outputs": [],
   "source": [
    "plt.plot(test_data['sqft_living'],test_data['price'],'.',\n",
    "        test_data['sqft_living'],sqft_model.predict(test_data),'-')"
   ]
  },
  {
   "cell_type": "markdown",
   "metadata": {},
   "source": [
    "Above:  blue dots are original data, green line is the prediction from the simple regression.\n",
    "\n",
    "Below: we can view the learned regression coefficients. "
   ]
  },
  {
   "cell_type": "code",
   "execution_count": null,
   "metadata": {
    "collapsed": false
   },
   "outputs": [],
   "source": [
    "sqft_model.get('coefficients')"
   ]
  },
  {
   "cell_type": "markdown",
   "metadata": {},
   "source": [
    "#Explore other features in the data\n",
    "\n",
    "To build a more elaborate model, we will explore using more features."
   ]
  },
  {
   "cell_type": "code",
   "execution_count": null,
   "metadata": {
    "collapsed": true
   },
   "outputs": [],
   "source": [
    "my_features = ['bedrooms', 'bathrooms', 'sqft_living', 'sqft_lot', 'floors', 'zipcode']"
   ]
  },
  {
   "cell_type": "code",
   "execution_count": null,
   "metadata": {
    "collapsed": false
   },
   "outputs": [],
   "source": [
    "sales[my_features].show()"
   ]
  },
  {
   "cell_type": "code",
   "execution_count": null,
   "metadata": {
    "collapsed": false
   },
   "outputs": [],
   "source": [
    "sales.show(view='BoxWhisker Plot', x='zipcode', y='price')"
   ]
  },
  {
   "cell_type": "markdown",
   "metadata": {},
   "source": [
    "Pull the bar at the bottom to view more of the data.  \n",
    "\n",
    "98039 is the most expensive zip code."
   ]
  },
  {
   "cell_type": "markdown",
   "metadata": {},
   "source": [
    "#Build a regression model with more features"
   ]
  },
  {
   "cell_type": "code",
   "execution_count": null,
   "metadata": {
    "collapsed": false
   },
   "outputs": [],
   "source": [
    "my_features_model = graphlab.linear_regression.create(train_data,target='price',features=my_features,validation_set=None)"
   ]
  },
  {
   "cell_type": "code",
   "execution_count": null,
   "metadata": {
    "collapsed": false
   },
   "outputs": [],
   "source": [
    "print my_features"
   ]
  },
  {
   "cell_type": "markdown",
   "metadata": {},
   "source": [
    "##Comparing the results of the simple model with adding more features"
   ]
  },
  {
   "cell_type": "code",
   "execution_count": null,
   "metadata": {
    "collapsed": false
   },
   "outputs": [],
   "source": [
    "print sqft_model.evaluate(test_data)\n",
    "print my_features_model.evaluate(test_data)"
   ]
  },
  {
   "cell_type": "markdown",
   "metadata": {},
   "source": [
    "The RMSE goes down from \\$255,170 to \\$179,508 with more features."
   ]
  },
  {
   "cell_type": "markdown",
   "metadata": {},
   "source": [
    "#Apply learned models to predict prices of 3 houses"
   ]
  },
  {
   "cell_type": "markdown",
   "metadata": {},
   "source": [
    "The first house we will use is considered an \"average\" house in Seattle. "
   ]
  },
  {
   "cell_type": "code",
   "execution_count": null,
   "metadata": {
    "collapsed": true
   },
   "outputs": [],
   "source": [
    "house1 = sales[sales['id']=='5309101200']"
   ]
  },
  {
   "cell_type": "code",
   "execution_count": null,
   "metadata": {
    "collapsed": false
   },
   "outputs": [],
   "source": [
    "house1"
   ]
  },
  {
   "cell_type": "markdown",
   "metadata": {},
   "source": [
    "<img src=\"http://info.kingcounty.gov/Assessor/eRealProperty/MediaHandler.aspx?Media=2916871\">"
   ]
  },
  {
   "cell_type": "code",
   "execution_count": null,
   "metadata": {
    "collapsed": false
   },
   "outputs": [],
   "source": [
    "print house1['price']"
   ]
  },
  {
   "cell_type": "code",
   "execution_count": null,
   "metadata": {
    "collapsed": false
   },
   "outputs": [],
   "source": [
    "print sqft_model.predict(house1)"
   ]
  },
  {
   "cell_type": "code",
   "execution_count": null,
   "metadata": {
    "collapsed": false
   },
   "outputs": [],
   "source": [
    "print my_features_model.predict(house1)"
   ]
  },
  {
   "cell_type": "markdown",
   "metadata": {},
   "source": [
    "In this case, the model with more features provides a worse prediction than the simpler model with only 1 feature.  However, on average, the model with more features is better."
   ]
  },
  {
   "cell_type": "markdown",
   "metadata": {},
   "source": [
    "##Prediction for a second, fancier house\n",
    "\n",
    "We will now examine the predictions for a fancier house."
   ]
  },
  {
   "cell_type": "code",
   "execution_count": 2,
   "metadata": {
    "collapsed": false
   },
   "outputs": [
    {
     "ename": "NameError",
     "evalue": "name 'sales' is not defined",
     "output_type": "error",
     "traceback": [
      "\u001b[0;31m---------------------------------------------------------------------------\u001b[0m",
      "\u001b[0;31mNameError\u001b[0m                                 Traceback (most recent call last)",
      "\u001b[0;32m<ipython-input-2-0389c23f66df>\u001b[0m in \u001b[0;36m<module>\u001b[0;34m()\u001b[0m\n\u001b[0;32m----> 1\u001b[0;31m \u001b[0mhouse2\u001b[0m \u001b[0;34m=\u001b[0m \u001b[0msales\u001b[0m\u001b[0;34m[\u001b[0m\u001b[0msales\u001b[0m\u001b[0;34m[\u001b[0m\u001b[0;34m'id'\u001b[0m\u001b[0;34m]\u001b[0m\u001b[0;34m==\u001b[0m\u001b[0;34m'1925069082'\u001b[0m\u001b[0;34m]\u001b[0m\u001b[0;34m\u001b[0m\u001b[0m\n\u001b[0m",
      "\u001b[0;31mNameError\u001b[0m: name 'sales' is not defined"
     ]
    }
   ],
   "source": [
    "house2 = sales[sales['id']=='1925069082']"
   ]
  },
  {
   "cell_type": "code",
   "execution_count": null,
   "metadata": {
    "collapsed": false
   },
   "outputs": [],
   "source": [
    "house2"
   ]
  },
  {
   "cell_type": "markdown",
   "metadata": {},
   "source": [
    "<img src=\"https://ssl.cdn-redfin.com/photo/1/bigphoto/302/734302_0.jpg\">"
   ]
  },
  {
   "cell_type": "code",
   "execution_count": null,
   "metadata": {
    "collapsed": false
   },
   "outputs": [],
   "source": [
    "print sqft_model.predict(house2)"
   ]
  },
  {
   "cell_type": "code",
   "execution_count": null,
   "metadata": {
    "collapsed": false
   },
   "outputs": [],
   "source": [
    "print my_features_model.predict(house2)"
   ]
  },
  {
   "cell_type": "markdown",
   "metadata": {},
   "source": [
    "In this case, the model with more features provides a better prediction.  This behavior is expected here, because this house is more differentiated by features that go beyond its square feet of living space, especially the fact that it's a waterfront house. "
   ]
  },
  {
   "cell_type": "markdown",
   "metadata": {},
   "source": [
    "##Last house, super fancy\n",
    "\n",
    "Our last house is a very large one owned by a famous Seattleite."
   ]
  },
  {
   "cell_type": "code",
   "execution_count": null,
   "metadata": {
    "collapsed": true
   },
   "outputs": [],
   "source": [
    "bill_gates = {'bedrooms':[8], \n",
    "              'bathrooms':[25], \n",
    "              'sqft_living':[50000], \n",
    "              'sqft_lot':[225000],\n",
    "              'floors':[4], \n",
    "              'zipcode':['98039'], \n",
    "              'condition':[10], \n",
    "              'grade':[10],\n",
    "              'waterfront':[1],\n",
    "              'view':[4],\n",
    "              'sqft_above':[37500],\n",
    "              'sqft_basement':[12500],\n",
    "              'yr_built':[1994],\n",
    "              'yr_renovated':[2010],\n",
    "              'lat':[47.627606],\n",
    "              'long':[-122.242054],\n",
    "              'sqft_living15':[5000],\n",
    "              'sqft_lot15':[40000]}"
   ]
  },
  {
   "cell_type": "markdown",
   "metadata": {},
   "source": [
    "<img src=\"https://upload.wikimedia.org/wikipedia/commons/thumb/d/d9/Bill_gates%27_house.jpg/2560px-Bill_gates%27_house.jpg\">"
   ]
  },
  {
   "cell_type": "code",
   "execution_count": null,
   "metadata": {
    "collapsed": false
   },
   "outputs": [],
   "source": [
    "print my_features_model.predict(graphlab.SFrame(bill_gates))"
   ]
  },
  {
   "cell_type": "markdown",
   "metadata": {
    "collapsed": true
   },
   "source": [
    "The model predicts a price of over $13M for this house! But we expect the house to cost much more.  (There are very few samples in the dataset of houses that are this fancy, so we don't expect the model to capture a perfect prediction here.)"
   ]
  },
  {
   "cell_type": "code",
   "execution_count": 1,
   "metadata": {
    "collapsed": false
   },
   "outputs": [
    {
     "ename": "NameError",
     "evalue": "name 'sales' is not defined",
     "output_type": "error",
     "traceback": [
      "\u001b[0;31m---------------------------------------------------------------------------\u001b[0m",
      "\u001b[0;31mNameError\u001b[0m                                 Traceback (most recent call last)",
      "\u001b[0;32m<ipython-input-1-add46e196561>\u001b[0m in \u001b[0;36m<module>\u001b[0;34m()\u001b[0m\n\u001b[0;32m----> 1\u001b[0;31m \u001b[0mhouse3\u001b[0m \u001b[0;34m=\u001b[0m \u001b[0msales\u001b[0m\u001b[0;34m[\u001b[0m\u001b[0msales\u001b[0m\u001b[0;34m[\u001b[0m\u001b[0;34m'zipcode'\u001b[0m\u001b[0;34m]\u001b[0m\u001b[0;34m==\u001b[0m\u001b[0;34m'98039'\u001b[0m\u001b[0;34m]\u001b[0m\u001b[0;34m\u001b[0m\u001b[0m\n\u001b[0m",
      "\u001b[0;31mNameError\u001b[0m: name 'sales' is not defined"
     ]
    }
   ],
   "source": [
    "house3 = sales[sales['zipcode']=='98039']"
   ]
  },
  {
   "cell_type": "code",
   "execution_count": 3,
   "metadata": {
    "collapsed": false
   },
   "outputs": [
    {
     "ename": "NameError",
     "evalue": "name 'sales' is not defined",
     "output_type": "error",
     "traceback": [
      "\u001b[0;31m---------------------------------------------------------------------------\u001b[0m",
      "\u001b[0;31mNameError\u001b[0m                                 Traceback (most recent call last)",
      "\u001b[0;32m<ipython-input-3-1571cdff7bfb>\u001b[0m in \u001b[0;36m<module>\u001b[0;34m()\u001b[0m\n\u001b[0;32m----> 1\u001b[0;31m \u001b[0msales\u001b[0m\u001b[0;34m.\u001b[0m\u001b[0mshow\u001b[0m\u001b[0;34m(\u001b[0m\u001b[0mview\u001b[0m\u001b[0;34m=\u001b[0m\u001b[0;34m'BoxWhisker Plot'\u001b[0m\u001b[0;34m,\u001b[0m \u001b[0mx\u001b[0m\u001b[0;34m=\u001b[0m\u001b[0;34m'zipcode'\u001b[0m\u001b[0;34m,\u001b[0m \u001b[0my\u001b[0m\u001b[0;34m=\u001b[0m\u001b[0;34m'price'\u001b[0m\u001b[0;34m)\u001b[0m\u001b[0;34m\u001b[0m\u001b[0m\n\u001b[0m",
      "\u001b[0;31mNameError\u001b[0m: name 'sales' is not defined"
     ]
    }
   ],
   "source": [
    "sales.show(view='BoxWhisker Plot', x='zipcode', y='price')\n"
   ]
  },
  {
   "cell_type": "code",
   "execution_count": 4,
   "metadata": {
    "collapsed": false
   },
   "outputs": [
    {
     "ename": "NameError",
     "evalue": "name 'graphlab' is not defined",
     "output_type": "error",
     "traceback": [
      "\u001b[0;31m---------------------------------------------------------------------------\u001b[0m",
      "\u001b[0;31mNameError\u001b[0m                                 Traceback (most recent call last)",
      "\u001b[0;32m<ipython-input-4-e6a249ea422b>\u001b[0m in \u001b[0;36m<module>\u001b[0;34m()\u001b[0m\n\u001b[0;32m----> 1\u001b[0;31m \u001b[0msales\u001b[0m \u001b[0;34m=\u001b[0m \u001b[0mgraphlab\u001b[0m\u001b[0;34m.\u001b[0m\u001b[0mSFrame\u001b[0m\u001b[0;34m(\u001b[0m\u001b[0;34m'home_data.gl/'\u001b[0m\u001b[0;34m)\u001b[0m\u001b[0;34m\u001b[0m\u001b[0m\n\u001b[0m",
      "\u001b[0;31mNameError\u001b[0m: name 'graphlab' is not defined"
     ]
    }
   ],
   "source": [
    "sales = graphlab.SFrame('home_data.gl/')\n"
   ]
  },
  {
   "cell_type": "code",
   "execution_count": 5,
   "metadata": {
    "collapsed": false
   },
   "outputs": [
    {
     "ename": "ImportError",
     "evalue": "No module named 'graphlab'",
     "output_type": "error",
     "traceback": [
      "\u001b[0;31m---------------------------------------------------------------------------\u001b[0m",
      "\u001b[0;31mImportError\u001b[0m                               Traceback (most recent call last)",
      "\u001b[0;32m<ipython-input-5-4b66ad388e97>\u001b[0m in \u001b[0;36m<module>\u001b[0;34m()\u001b[0m\n\u001b[0;32m----> 1\u001b[0;31m \u001b[0;32mimport\u001b[0m \u001b[0mgraphlab\u001b[0m\u001b[0;34m\u001b[0m\u001b[0m\n\u001b[0m",
      "\u001b[0;31mImportError\u001b[0m: No module named 'graphlab'"
     ]
    }
   ],
   "source": [
    "import graphlab"
   ]
  },
  {
   "cell_type": "code",
   "execution_count": 1,
   "metadata": {
    "collapsed": false
   },
   "outputs": [
    {
     "ename": "ImportError",
     "evalue": "No module named 'graphlab'",
     "output_type": "error",
     "traceback": [
      "\u001b[0;31m---------------------------------------------------------------------------\u001b[0m",
      "\u001b[0;31mImportError\u001b[0m                               Traceback (most recent call last)",
      "\u001b[0;32m<ipython-input-1-4b66ad388e97>\u001b[0m in \u001b[0;36m<module>\u001b[0;34m()\u001b[0m\n\u001b[0;32m----> 1\u001b[0;31m \u001b[0;32mimport\u001b[0m \u001b[0mgraphlab\u001b[0m\u001b[0;34m\u001b[0m\u001b[0m\n\u001b[0m",
      "\u001b[0;31mImportError\u001b[0m: No module named 'graphlab'"
     ]
    }
   ],
   "source": [
    "import graphlab"
   ]
  },
  {
   "cell_type": "code",
   "execution_count": 1,
   "metadata": {
    "collapsed": true
   },
   "outputs": [],
   "source": [
    "import graphlab\n"
   ]
  },
  {
   "cell_type": "code",
   "execution_count": 2,
   "metadata": {
    "collapsed": false
   },
   "outputs": [
    {
     "name": "stderr",
     "output_type": "stream",
     "text": [
      "[INFO] This non-commercial license of GraphLab Create is assigned to yashraaj8@gmail.com and will expire on February 06, 2017. For commercial licensing options, visit https://dato.com/buy/.\n",
      "\n",
      "[INFO] Start server at: ipc:///tmp/graphlab_server-11715 - Server binary: /Users/yash/anaconda/envs/dato-env/lib/python2.7/site-packages/graphlab/unity_server - Server log: /tmp/graphlab_server_1454854814.log\n",
      "[INFO] GraphLab Server Version: 1.8.1\n"
     ]
    }
   ],
   "source": [
    "sales = graphlab.SFrame('home_data.gl/')"
   ]
  },
  {
   "cell_type": "code",
   "execution_count": 3,
   "metadata": {
    "collapsed": false
   },
   "outputs": [
    {
     "name": "stdout",
     "output_type": "stream",
     "text": [
      "Canvas is accessible via web browser at the URL: http://localhost:57845/index.html\n",
      "Opening Canvas in default web browser.\n"
     ]
    }
   ],
   "source": [
    "sales.show(view='BoxWhisker Plot', x='zipcode', y='price')"
   ]
  },
  {
   "cell_type": "code",
   "execution_count": 4,
   "metadata": {
    "collapsed": true
   },
   "outputs": [],
   "source": [
    "import matplotlib.pyplot as plt\n",
    "%matplotlib inline"
   ]
  },
  {
   "cell_type": "code",
   "execution_count": 5,
   "metadata": {
    "collapsed": false
   },
   "outputs": [
    {
     "name": "stdout",
     "output_type": "stream",
     "text": [
      "Canvas is accessible via web browser at the URL: http://localhost:57845/index.html\n",
      "Opening Canvas in default web browser.\n"
     ]
    }
   ],
   "source": [
    "sales.show(view='BoxWhisker Plot', x='zipcode', y='price')"
   ]
  },
  {
   "cell_type": "code",
   "execution_count": 6,
   "metadata": {
    "collapsed": false
   },
   "outputs": [
    {
     "data": {
      "application/javascript": [
       "$(\"head\").append($(\"<link/>\").attr({\n",
       "  rel:  \"stylesheet\",\n",
       "  type: \"text/css\",\n",
       "  href: \"//cdnjs.cloudflare.com/ajax/libs/font-awesome/4.1.0/css/font-awesome.min.css\"\n",
       "}));\n",
       "$(\"head\").append($(\"<link/>\").attr({\n",
       "  rel:  \"stylesheet\",\n",
       "  type: \"text/css\",\n",
       "  href: \"//dato.com/files/canvas/1.8.1/css/canvas.css\"\n",
       "}));\n",
       "\n",
       "            (function(){\n",
       "\n",
       "                var e = null;\n",
       "                if (typeof element == 'undefined') {\n",
       "                    var scripts = document.getElementsByTagName('script');\n",
       "                    var thisScriptTag = scripts[scripts.length-1];\n",
       "                    var parentDiv = thisScriptTag.parentNode;\n",
       "                    e = document.createElement('div');\n",
       "                    parentDiv.appendChild(e);\n",
       "                } else {\n",
       "                    e = element[0];\n",
       "                }\n",
       "\n",
       "                if (typeof requirejs !== 'undefined') {\n",
       "                    // disable load timeout; ipython_app.js is large and can take a while to load.\n",
       "                    requirejs.config({waitSeconds: 0});\n",
       "                }\n",
       "\n",
       "                require(['//dato.com/files/canvas/1.8.1/js/ipython_app.js'], function(IPythonApp){\n",
       "                    var app = new IPythonApp();\n",
       "                    app.attachView('sframe','Plots', {\"selected_variable\": {\"name\": [\"sales\"], \"descriptives\": {\"rows\": 21613, \"columns\": 21}, \"view_component\": \"Plots\", \"view_file\": \"sframe\", \"view_params\": {\"y\": \"price\", \"x\": \"sqft_living\", \"columns\": [\"id\", \"date\", \"price\", \"bedrooms\", \"bathrooms\", \"sqft_living\", \"sqft_lot\", \"floors\", \"waterfront\", \"view\", \"condition\", \"grade\", \"sqft_above\", \"sqft_basement\", \"yr_built\", \"yr_renovated\", \"zipcode\", \"lat\", \"long\", \"sqft_living15\", \"sqft_lot15\"], \"view\": \"Scatter Plot\"}, \"view_components\": [\"Summary\", \"Table\", \"Bar Chart\", \"BoxWhisker Plot\", \"Line Chart\", \"Scatter Plot\", \"Heat Map\", \"Plots\"], \"type\": \"SFrame\", \"columns\": [{\"dtype\": \"str\", \"name\": \"id\"}, {\"dtype\": \"datetime\", \"name\": \"date\"}, {\"dtype\": \"int\", \"name\": \"price\"}, {\"dtype\": \"str\", \"name\": \"bedrooms\"}, {\"dtype\": \"str\", \"name\": \"bathrooms\"}, {\"dtype\": \"int\", \"name\": \"sqft_living\"}, {\"dtype\": \"int\", \"name\": \"sqft_lot\"}, {\"dtype\": \"str\", \"name\": \"floors\"}, {\"dtype\": \"int\", \"name\": \"waterfront\"}, {\"dtype\": \"int\", \"name\": \"view\"}, {\"dtype\": \"int\", \"name\": \"condition\"}, {\"dtype\": \"int\", \"name\": \"grade\"}, {\"dtype\": \"int\", \"name\": \"sqft_above\"}, {\"dtype\": \"int\", \"name\": \"sqft_basement\"}, {\"dtype\": \"int\", \"name\": \"yr_built\"}, {\"dtype\": \"int\", \"name\": \"yr_renovated\"}, {\"dtype\": \"str\", \"name\": \"zipcode\"}, {\"dtype\": \"float\", \"name\": \"lat\"}, {\"dtype\": \"float\", \"name\": \"long\"}, {\"dtype\": \"float\", \"name\": \"sqft_living15\"}, {\"dtype\": \"float\", \"name\": \"sqft_lot15\"}], \"column_identifiers\": [\"bathrooms\", \"sqft_living15\", \"sqft_above\", \"grade\", \"yr_built\", \"price\", \"bedrooms\", \"zipcode\", \"long\", \"id\", \"sqft_lot15\", \"sqft_living\", \"floors\", \"sqft_lot\", \"date\", \"waterfront\", \"sqft_basement\", \"yr_renovated\", \"lat\", \"condition\", \"view\"]}, \"complete\": 1, \"ipython\": true, \"progress\": 1.0, \"data\": [[1180, 221900], [1180, 265900], [1090, 382500], [1490, 260000], [1040, 299000], [1260, 240000], [1090, 219500], [2500, 990000], [1780, 229500], [1390, 290000], [3140, 345000], [2910, 1168000], [5220, 1481000], [1250, 511000], [2350, 659000], [2120, 275000], [1380, 570500], [720, 199000], [2290, 365000], [1090, 306000], [2230, 646800], [2440, 483000], [2580, 383000], [1410, 391000], [2140, 340000], [2370, 587000], [1920, 667500], [1040, 230000], [1340, 381000], [1440, 245000], [1750, 605000], [1450, 395000], [3030, 740000], [2390, 1185000], [1520, 530000], [2430, 359000], [1860, 510000], [3500, 632500], [1030, 330000], [790, 169317], [2240, 450000], [1140, 569950], [2980, 765000], [1300, 552500], [1580, 253000], [1730, 665000], [990, 210490], [1350, 414500], [1760, 810000], [3040, 647000], [1860, 215000], [1230, 392000], [760, 167500], [1760, 264000], [2760, 545000], [2130, 325250], [1980, 239000], [1140, 410000], [1320, 425000], [1850, 430000], [3570, 663000], [1260, 289000], [2519, 505000], [2020, 464900], [1470, 169000], [2880, 440000], [3280, 458000], [1600, 275000], [2020, 420000], [3200, 1325000], [2400, 608000], [2250, 569000], [2020, 1400000], [710, 271000], [1610, 485000], [2040, 240000], [1760, 353500], [5250, 915000], [3000, 1075000], [1530, 500000], [1600, 625000], [1481, 250000], [1270, 240000], [1930, 690000], [2090, 555000], [2060, 324747], [1440, 230000], [1090, 680000], [2660, 765000], [2800, 850000], [3273, 485000], [3520, 1099880], [2430, 590000], [920, 207000], [1320, 229000], [950, 492000], [1960, 247500], [2430, 1027000], [1060, 400000], [1040, 245990], [1280, 215000], [920, 208000], [1600, 299950], [2920, 1088000], [3110, 719000], [3140, 585000], [3670, 820000], [1140, 400000], [1950, 798500], [2720, 469950], [3080, 2160000], [1970, 690000], [1020, 505000], [1150, 717000], [3230, 480000], [2590, 674750], [1370, 524000], [2690, 439000], [2060, 558000], [2330, 732000], [2710, 535000], [1020, 265000], [2000, 367000], [3700, 1728000], [3730, 2535000], [2180, 363500], [2210, 343000], [3200, 1308000], [1990, 582500], [1190, 312000], [1340, 265000], [2130, 325000], [2100, 640000], [1470, 551000], [1350, 172000], [1970, 525000], [1870, 579000], [1070, 400800], [3110, 435000], [3176, 819000], [2700, 690000], [1690, 197000], [2110, 638000], [580, 330600], [2520, 865000], [870, 170000], [3730, 840000], [1150, 349000], [3830, 865000], [2600, 475000], [2770, 283450], [2656, 495000], [2230, 836500], [2230, 766500], [1470, 254600], [1290, 525000], [1890, 523460], [1160, 525000], [1646, 305000], [1650, 490000], [1580, 260000], [1720, 290256], [3170, 1695000], [2510, 400000], [1180, 507000], [1480, 175000], [1920, 260000], [3030, 1220000], [1640, 279000], [2570, 1005000], [2040, 675000], [2760, 600000], [1340, 313000], [1660, 559000], [1430, 453000], [1790, 603000], [1010, 349000], [1200, 210000], [1950, 395000], [3610, 982000], [1120, 240415], [3780, 782000], [2440, 589000], [2520, 560000], [1480, 397500], [1830, 295000], [2190, 464950], [2080, 550000], [2350, 1195000], [1680, 412500], [2530, 650000], [840, 291000], [2140, 799000], [1770, 325000], [1940, 495000], [1960, 412000], [2090, 490000], [2240, 418200], [1730, 396675], [2480, 424950], [1160, 250000], [3160, 1137500], [1010, 470000], [1460, 495000], [2980, 350000], [1510, 624000], [1700, 334950], [1420, 329922], [1320, 304000], [1990, 309000], [1310, 420000], [2910, 610000], [4000, 762000], [1880, 538000], [2740, 1039000], [1070, 249000], [1520, 575000], [1170, 457000], [1960, 355000], [830, 235000], [3020, 900000], [3010, 789500], [2260, 625000], [1400, 658600], [2360, 631750], [840, 350000], [1900, 539000], [1540, 430000], [1700, 585000], [1530, 252000], [1310, 242000], [1710, 368000], [3010, 830000], [3280, 965000], [1840, 430000], [1480, 335000], [3820, 950000], [1520, 508450], [880, 490000], [2720, 873000], [1180, 275000], [940, 600000], [3650, 824000], [1060, 480000], [1030, 480000], [4590, 1710000], [1230, 275000], [1320, 352000], [1480, 260000], [2190, 194250], [1270, 281500], [1350, 405000], [1740, 665000], [1510, 419000], [1530, 320000], [2480, 420000], [1330, 500000], [3680, 679000], [3200, 580000], [1060, 476500], [3680, 1600000], [1840, 285000], [4110, 1042031], [2900, 785000], [4470, 1476000], [1700, 290000], [1700, 400000], [1960, 556000], [4360, 1555000], [2310, 495000], [1800, 205000], [1830, 346950], [3830, 1700000], [3160, 693000], [2390, 629800], [1880, 475000], [2290, 450000], [2050, 355000], [2210, 455000], [1060, 174950], [1580, 299980], [2190, 320000], [1630, 249000], [3500, 780000], [3990, 810000], [3340, 870000], [790, 365000], [2730, 712000], [2210, 415000], [2410, 432000], [1530, 338000], [4440, 959000], [1550, 453500], [800, 269500], [3610, 425000], [3360, 879000], [1680, 315000], [3520, 589500], [1340, 455000], [2180, 334900], [1520, 288000], [1480, 620000], [1660, 392500], [1540, 484998], [830, 135000], [2260, 622500], [1320, 526000], [2820, 543200], [2380, 655500], [1750, 716528], [2270, 380000], [2190, 1565000], [1940, 635000], [1800, 345000], [4290, 1400000], [1950, 305000], [2660, 851000], [3060, 753000], [4460, 1865000], [1810, 327000], [2095, 670000], [1060, 220000], [790, 248000], [3300, 849990], [1120, 750000], [2990, 339950], [3760, 1375000], [1720, 580000], [1440, 239950], [1420, 269000], [2620, 978000], [1800, 408474], [2740, 378800], [1250, 165000], [2340, 440000], [2250, 589000], [2000, 237000], [3470, 994000], [1420, 265000], [1740, 245000], [1830, 336800], [2180, 625000], [2430, 602000], [3100, 302500], [1300, 562500], [1090, 417000], [1400, 507250], [2260, 500000], [2040, 1320000], [1910, 435000], [2370, 577000], [2200, 573500], [3000, 585000], [1160, 425000], [1760, 579000], [1640, 408000], [2020, 830000], [1010, 255000], [2510, 699950], [2820, 297975], [2270, 575000], [1040, 200000], [3040, 799950], [2110, 320000], [2440, 1285000], [2090, 581000], [1330, 372000], [1920, 510000], [990, 210000], [1200, 375000], [1670, 710200], [1680, 425000], [760, 162500], [2070, 613000], [2060, 417500], [1770, 514000], [1490, 312000], [1530, 620000], [1700, 277500], [1010, 300000], [1060, 212000], [2190, 988000], [2190, 600000], [3560, 835000], [2160, 381500], [2510, 799000], [1850, 605000], [1920, 350000], [2070, 262000], [1870, 355000], [2480, 374900], [1240, 192000], [2230, 337000], [1980, 345000], [2230, 340000], [1450, 245000], [1600, 332500], [1600, 290000], [2220, 260000], [3910, 709950], [1620, 467100], [1390, 230000], [2390, 845000], [4420, 2328000], [1660, 650000], [1520, 171000], [4460, 1800000], [2000, 540000], [1930, 364950], [3050, 1030000], [1340, 452000], [1510, 195000], [1470, 468000], [1630, 476000], [1200, 345000], [3560, 616950], [2840, 665000], [2340, 459900], [2580, 935000], [1610, 275000], [2210, 314000], [1000, 525000], [1930, 285000], [2200, 472000], [2800, 605000], [1530, 245000], [2460, 325000], [1040, 210000], [2410, 537000], [810, 408000], [3160, 1150000], [780, 78000], [2610, 1000000], [2220, 475000], [1980, 380000], [940, 551000], [1530, 255000], [2050, 399950], [1750, 240000], [1640, 575950], [1280, 199000], [1180, 330000], [3220, 640000], [1460, 355000], [1690, 297000], [1790, 199900], [2400, 745000], [1210, 483300], [3640, 925000], [1940, 359950], [4150, 635000], [1170, 482500], [2390, 915000], [1620, 327000], [3150, 700000], [3450, 905000], [2900, 630000], [2090, 550000], [1340, 275000], [3230, 625000], [2550, 630000], [2570, 348000], [2960, 1015000], [1110, 320000], [2580, 354000], [2170, 606500], [2380, 445000], [2350, 692000], [3000, 400000], [4250, 2300000], [2370, 913888], [1092, 309000], [1090, 267500], [3350, 700000], [1660, 210000], [2010, 550000], [2190, 446000], [1010, 560000], [1590, 489950], [2320, 370000], [1700, 378500], [1310, 235000], [3730, 649500], [1130, 220000], [2810, 747500], [1230, 433500], [4860, 1067000], [1620, 249950], [1260, 188200], [1980, 711000], [3540, 925000], [1140, 474000], [2410, 767500], [2480, 525000], [1260, 349500], [1300, 427000], [2100, 483000], [1520, 167000], [1180, 410000], [2870, 577288], [2140, 780000], [1490, 475000], [2190, 770000], [1150, 350000], [4070, 965000], [4020, 900000], [1210, 529000], [2238, 330000], [3460, 855000], [2690, 760000], [1960, 415000], [1522, 407500], [2100, 600000], [1480, 585000], [1620, 532500], [820, 220000], [2940, 1070000], [1250, 463000], [2630, 430000], [1160, 250000], [1330, 553000], [1590, 375000], [2980, 515000], [3520, 870000], [1790, 460000], [1240, 333000], [1380, 408000], [1690, 371000], [2910, 292000], [1650, 453000], [1370, 264950], [2550, 371000], [2420, 640000], [1500, 525000], [1960, 550000], [1610, 1180500], [2420, 390000], [3090, 1450000], [2280, 449500], [1450, 355000], [6260, 1180000], [2340, 563000], [2780, 594866], [1050, 473000], [3910, 805000], [2640, 650000], [1480, 415000], [1990, 627000], [1350, 259950], [2190, 808000], [2180, 705000], [680, 110700], [2740, 510000], [3410, 545000], [1880, 284000], [1540, 433500], [1010, 149500], [1990, 524400], [2750, 750000], [1030, 175000], [1020, 187000], [1160, 458500], [2870, 880000], [6640, 1820000], [2140, 680000], [1430, 350000], [1820, 499950], [1090, 427500], [1690, 475000], [1960, 367500], [3600, 1925000], [1130, 185000], [1790, 297000], [1410, 225000], [1840, 245000], [2220, 771000], [2000, 593000], [6050, 930000], [1392, 350000], [2660, 896000], [2568, 425996], [2160, 653000], [2290, 545000], [1850, 678100], [1600, 270000], [3880, 445000], [2080, 520000], [2540, 269950], [3610, 875909], [3720, 500000], [1490, 515000], [2210, 445500], [1370, 327000], [1250, 443725], [910, 107000], [1380, 477000], [720, 248500], [2690, 925000], [1130, 345000], [3170, 919950], [2095, 292500], [1310, 575000], [1500, 290000], [2180, 330000], [1930, 530000], [2180, 650000], [1430, 400000], [1690, 285900], [4690, 1945000], [1380, 319900], [1445, 387000], [1460, 443750], [3281, 471835], [1810, 443000], [2670, 612000], [1400, 185000], [880, 235000], [1930, 509000], [1860, 495000], [3080, 530000], [2430, 485000], [2300, 312891], [1470, 269000], [3100, 499000], [3070, 1000750], [2360, 580050], [2700, 550000], [1210, 457500], [1530, 546000], [3160, 452100], [3470, 1727000], [1560, 627500], [3190, 659000], [1440, 560000], [2710, 278000], [1600, 625000], [1850, 390000], [3580, 925000], [2990, 814950], [3527, 340000], [1930, 325000], [1410, 655000], [3100, 1001000], [3370, 800000], [1020, 225000], [1610, 270000], [1960, 325000], [1320, 530000], [1570, 350000], [2270, 596000], [2360, 397950], [1480, 466800], [1780, 395000], [2820, 321027], [2090, 349950], [1000, 380000], [2200, 505000], [1190, 276693], [2450, 715000], [1690, 442500], [4000, 739000], [1630, 308000], [1830, 600000], [2240, 580379], [3000, 887000], [1270, 290750], [1340, 383000], [1260, 479000], [1650, 438000], [1800, 425000], [3510, 695000], [1400, 358000], [2080, 365000], [1090, 249000], [4170, 1200000], [2040, 449500], [1260, 503000], [1470, 239000], [1190, 210000], [4370, 1145000], [1250, 209000], [1970, 352500], [1940, 807000], [1640, 443000], [1400, 570000], [1560, 399950], [940, 520000], [1470, 249900], [2560, 667000], [1890, 521000], [840, 530000], [800, 370000], [1460, 540000], [3150, 600000], [4270, 1356925], [2190, 520000], [2650, 731500], [3540, 1348000], [3600, 1415000], [2760, 336000], [2620, 519000], [2780, 690000], [4620, 575000], [1260, 485000], [2170, 619500], [2060, 550000], [1530, 440000], [2370, 545000], [1936, 274900], [2130, 802000], [950, 250000], [1370, 703011], [3010, 980000], [1660, 431000], [1360, 536500], [1270, 275000], [1380, 539000], [1870, 259000], [1740, 600000], [1720, 536500], [1340, 263000], [960, 565000], [2530, 429000], [2280, 625000], [1850, 450000], [1650, 320000], [2040, 245000], [1050, 245000], [1580, 259000], [2820, 1450000], [1840, 513000], [2040, 540000], [1670, 550000], [1950, 560000], [820, 324000], [2830, 865000], [2610, 350000], [3020, 975000], [1520, 430000], [2480, 450000], [2990, 659950], [2660, 900000], [2330, 565000], [1160, 305000], [1590, 490000], [1610, 235000], [1630, 327000], [3230, 950000], [3330, 936000], [1470, 339900], [1850, 218000], [1240, 415500], [1200, 203000], [1290, 521450], [2720, 710000], [1150, 213500], [2770, 641000], [1370, 280000], [2180, 570000], [990, 442000], [2070, 320000], [1390, 245000], [2290, 660000], [1210, 305000], [5700, 1385000], [1740, 585000], [3110, 875000], [1763, 305000], [1450, 499000], [1370, 420550], [828, 110000], [1320, 221000], [2030, 295450], [2150, 569000], [3320, 665000], [1840, 778000], [2060, 395000], [1730, 425000], [1330, 386900], [2200, 585000], [2007, 305950], [1360, 442000], [2130, 649990], [1580, 542300], [1390, 278500], [4700, 1135000], [1670, 699000], [2190, 353000], [1960, 355000], [2410, 960000], [1360, 525000], [2790, 764000], [1770, 600000], [3400, 799000], [1980, 796000], [1050, 208000], [2120, 368000], [2800, 665000], [1440, 246000], [2830, 774000], [1860, 379950], [3310, 829000], [2650, 580000], [1640, 245700], [1570, 252000], [1760, 455000], [3810, 900000], [2410, 485000], [2170, 195000], [1480, 402500], [1250, 345000], [1180, 419000], [2010, 515000], [2650, 325000], [1220, 300000], [1730, 490000], [2470, 633100], [2120, 980000], [1090, 392000], [2740, 395000], [2090, 289950], [3190, 589450], [3650, 1085000], [2320, 350000], [3060, 775000], [1540, 227500], [1530, 412500], [3290, 562000], [1730, 435000], [5550, 1500000], [3480, 878000], [3190, 664000], [2000, 520000], [1600, 285000], [4310, 780000], [1290, 205000], [4220, 633000], [2330, 605000], [1440, 315275], [4340, 1187500], [1660, 282000], [1360, 450000], [2170, 850000], [2370, 369000], [2370, 749950], [1320, 292000], [2080, 592500], [1370, 287000], [2530, 336000], [2240, 331210], [800, 375000], [1070, 337000], [2090, 400000], [4860, 1680000], [2960, 857500], [3420, 650000], [1800, 450000], [2200, 680000], [1470, 350000], [1820, 278000], [1530, 576250], [1580, 280000], [3950, 860000], [1640, 515000], [1310, 505000], [3600, 835000], [1000, 265000], [980, 215000], [1450, 205000], [1850, 260000], [2880, 725000], [1620, 469950], [950, 396000], [1320, 399700], [1100, 574000], [1200, 279500], [2600, 430000], [2100, 759950], [1480, 500000], [1170, 527500], [1990, 545000], [870, 183000], [1360, 159000], [1370, 570000], [880, 415000], [2310, 727160], [2920, 680000], [1790, 260000], [1460, 186000], [1170, 299950], [1720, 525000], [1810, 760000], [2450, 729000], [670, 250000], [1870, 832500], [1280, 180000], [1510, 575000], [1830, 286651], [2480, 495000], [3250, 980000], [2960, 654000], [2400, 489950], [2300, 420000], [1010, 200000], [2190, 313000], [2020, 465000], [1280, 379000], [2650, 485000], [1260, 528000], [1670, 325000], [920, 215150], [2260, 649000], [3020, 735000], [1870, 565000], [2220, 464000], [1260, 329950], [1670, 520000], [2600, 540000], [3400, 870000], [2423, 290000], [3570, 1600000], [1680, 525000], [2690, 390000], [3840, 970000], [2290, 349900], [1980, 297300], [1840, 442500], [2050, 439500], [1750, 364000], [1190, 290000], [1560, 285000], [1540, 259950], [1230, 322000], [1910, 609850], [2670, 668000], [1210, 461100], [1445, 366000], [1490, 604000], [1480, 778100], [1010, 201700], [1909, 630500], [1850, 540000], [1370, 320000], [2440, 274700], [1660, 530000], [3730, 595000], [2120, 550000], [1757, 375000], [3300, 725000], [3680, 1029900], [1410, 435000], [1250, 370000], [1560, 592000], [1560, 525000], [1260, 485000], [2980, 1625000], [3190, 865000], [1400, 373000], [1200, 226000], [1700, 979000], [1590, 274000], [3860, 820875], [1390, 272000], [6490, 2000000], [2120, 377691], [2100, 335000], [1430, 425000], [2950, 810000], [4150, 930800], [1070, 160000], [2160, 820000], [1020, 360000], [2650, 1388000], [1410, 335000], [4470, 831500], [1790, 485000], [1640, 640500], [1830, 212000], [1550, 835000], [1440, 409000], [1600, 438200], [1060, 356000], [2500, 323000], [2650, 797000], [2130, 310000], [5620, 2500000], [1920, 429000], [1900, 545000], [4310, 1174660], [1910, 323000], [2840, 1425000], [2160, 585000], [2250, 395000], [3260, 650000], [2340, 427874], [1290, 255000], [3300, 1105000], [720, 199900], [980, 334900], [990, 430000]], \"columns\": [{\"dtype\": \"str\", \"name\": \"id\"}, {\"dtype\": \"datetime\", \"name\": \"date\"}, {\"dtype\": \"int\", \"name\": \"price\"}, {\"dtype\": \"str\", \"name\": \"bedrooms\"}, {\"dtype\": \"str\", \"name\": \"bathrooms\"}, {\"dtype\": \"int\", \"name\": \"sqft_living\"}, {\"dtype\": \"int\", \"name\": \"sqft_lot\"}, {\"dtype\": \"str\", \"name\": \"floors\"}, {\"dtype\": \"int\", \"name\": \"waterfront\"}, {\"dtype\": \"int\", \"name\": \"view\"}, {\"dtype\": \"int\", \"name\": \"condition\"}, {\"dtype\": \"int\", \"name\": \"grade\"}, {\"dtype\": \"int\", \"name\": \"sqft_above\"}, {\"dtype\": \"int\", \"name\": \"sqft_basement\"}, {\"dtype\": \"int\", \"name\": \"yr_built\"}, {\"dtype\": \"int\", \"name\": \"yr_renovated\"}, {\"dtype\": \"str\", \"name\": \"zipcode\"}, {\"dtype\": \"float\", \"name\": \"lat\"}, {\"dtype\": \"float\", \"name\": \"long\"}, {\"dtype\": \"float\", \"name\": \"sqft_living15\"}, {\"dtype\": \"float\", \"name\": \"sqft_lot15\"}]}, e);\n",
       "                });\n",
       "            })();\n",
       "        "
      ]
     },
     "metadata": {},
     "output_type": "display_data"
    }
   ],
   "source": [
    "graphlab.canvas.set_target('ipynb')\n",
    "sales.show(view=\"Scatter Plot\", x=\"sqft_living\", y=\"price\")"
   ]
  },
  {
   "cell_type": "code",
   "execution_count": 7,
   "metadata": {
    "collapsed": true
   },
   "outputs": [],
   "source": [
    "house3 = sales[sales['zipcode']=='98039']"
   ]
  },
  {
   "cell_type": "code",
   "execution_count": 10,
   "metadata": {
    "collapsed": false
   },
   "outputs": [
    {
     "ename": "AttributeError",
     "evalue": "'SFrame' object has no attribute 'mean'",
     "output_type": "error",
     "traceback": [
      "\u001b[0;31m---------------------------------------------------------------------------\u001b[0m",
      "\u001b[0;31mAttributeError\u001b[0m                            Traceback (most recent call last)",
      "\u001b[0;32m<ipython-input-10-24c3a705031f>\u001b[0m in \u001b[0;36m<module>\u001b[0;34m()\u001b[0m\n\u001b[0;32m----> 1\u001b[0;31m \u001b[0;32mprint\u001b[0m \u001b[0mhouse3\u001b[0m\u001b[0;34m.\u001b[0m\u001b[0mmean\u001b[0m\u001b[0;34m(\u001b[0m\u001b[0;34m)\u001b[0m\u001b[0;34m\u001b[0m\u001b[0m\n\u001b[0m\u001b[1;32m      2\u001b[0m \u001b[0;34m\u001b[0m\u001b[0m\n",
      "\u001b[0;31mAttributeError\u001b[0m: 'SFrame' object has no attribute 'mean'"
     ]
    }
   ],
   "source": [
    "print house3.mean()\n",
    "\n"
   ]
  },
  {
   "cell_type": "code",
   "execution_count": 9,
   "metadata": {
    "collapsed": false
   },
   "outputs": [
    {
     "ename": "AttributeError",
     "evalue": "'SFrame' object has no attribute 'average'",
     "output_type": "error",
     "traceback": [
      "\u001b[0;31m---------------------------------------------------------------------------\u001b[0m",
      "\u001b[0;31mAttributeError\u001b[0m                            Traceback (most recent call last)",
      "\u001b[0;32m<ipython-input-9-d8bfb160900a>\u001b[0m in \u001b[0;36m<module>\u001b[0;34m()\u001b[0m\n\u001b[0;32m----> 1\u001b[0;31m \u001b[0mhouse3\u001b[0m\u001b[0;34m.\u001b[0m\u001b[0maverage\u001b[0m\u001b[0;34m(\u001b[0m\u001b[0;34m)\u001b[0m\u001b[0;34m\u001b[0m\u001b[0m\n\u001b[0m",
      "\u001b[0;31mAttributeError\u001b[0m: 'SFrame' object has no attribute 'average'"
     ]
    }
   ],
   "source": [
    "house3.average()"
   ]
  },
  {
   "cell_type": "code",
   "execution_count": 11,
   "metadata": {
    "collapsed": true
   },
   "outputs": [],
   "source": [
    "house_price=house3['price']"
   ]
  },
  {
   "cell_type": "code",
   "execution_count": 12,
   "metadata": {
    "collapsed": false
   },
   "outputs": [
    {
     "name": "stdout",
     "output_type": "stream",
     "text": [
      "[2950000, 1905000, 875000, 940000, 4000000, 5570000, 937500, 1160000, 1880000, 3418800, 1555000, 1398000, 1320000, 6885000, 865000, 1000000, 2100000, 2575000, 1712750, 787500, 1651000, 1800000, 1550000, 1762000, 1225000, 2750000, 1950000, 2200000, 1260000, 2450000, 3640900, 2271150, 1620000, 3710000, 1200000, 2500000, 2187730, 1450000, 1880000, 2458000, 1350000, 2680000, 1410000, 1920000, 3635000, 2720000, 1950000, 2250000, 2900000, 1865000, ... ]\n"
     ]
    }
   ],
   "source": [
    "print house_price\n"
   ]
  },
  {
   "cell_type": "code",
   "execution_count": 13,
   "metadata": {
    "collapsed": false
   },
   "outputs": [
    {
     "data": {
      "text/plain": [
       "2160606.5999999996"
      ]
     },
     "execution_count": 13,
     "metadata": {},
     "output_type": "execute_result"
    }
   ],
   "source": [
    "house_price.mean()\n"
   ]
  },
  {
   "cell_type": "code",
   "execution_count": 16,
   "metadata": {
    "collapsed": false
   },
   "outputs": [
    {
     "ename": "RuntimeError",
     "evalue": "Runtime Exception. Unsupported type operation. cannot perform operation > between integer and string",
     "output_type": "error",
     "traceback": [
      "\u001b[0;31m---------------------------------------------------------------------------\u001b[0m",
      "\u001b[0;31mRuntimeError\u001b[0m                              Traceback (most recent call last)",
      "\u001b[0;32m<ipython-input-16-53097c3a2d7d>\u001b[0m in \u001b[0;36m<module>\u001b[0;34m()\u001b[0m\n\u001b[0;32m----> 1\u001b[0;31m \u001b[0mhouse_sqft\u001b[0m\u001b[0;34m=\u001b[0m\u001b[0msales\u001b[0m\u001b[0;34m[\u001b[0m\u001b[0msales\u001b[0m\u001b[0;34m[\u001b[0m\u001b[0;34m'sqft_living'\u001b[0m\u001b[0;34m]\u001b[0m \u001b[0;34m>\u001b[0m\u001b[0;34m'2000'\u001b[0m \u001b[0;32mand\u001b[0m \u001b[0msales\u001b[0m\u001b[0;34m[\u001b[0m\u001b[0;34m'sqft_living'\u001b[0m\u001b[0;34m]\u001b[0m \u001b[0;34m<=\u001b[0m\u001b[0;34m'4000'\u001b[0m\u001b[0;34m]\u001b[0m\u001b[0;34m\u001b[0m\u001b[0m\n\u001b[0m",
      "\u001b[0;32m/Users/yash/anaconda/envs/dato-env/lib/python2.7/site-packages/graphlab/data_structures/sarray.pyc\u001b[0m in \u001b[0;36m__gt__\u001b[0;34m(self, other)\u001b[0m\n\u001b[1;32m    861\u001b[0m                 \u001b[0;32mreturn\u001b[0m \u001b[0mSArray\u001b[0m\u001b[0;34m(\u001b[0m\u001b[0m_proxy\u001b[0m \u001b[0;34m=\u001b[0m \u001b[0mself\u001b[0m\u001b[0;34m.\u001b[0m\u001b[0m__proxy__\u001b[0m\u001b[0;34m.\u001b[0m\u001b[0mvector_operator\u001b[0m\u001b[0;34m(\u001b[0m\u001b[0mother\u001b[0m\u001b[0;34m.\u001b[0m\u001b[0m__proxy__\u001b[0m\u001b[0;34m,\u001b[0m \u001b[0;34m'>'\u001b[0m\u001b[0;34m)\u001b[0m\u001b[0;34m)\u001b[0m\u001b[0;34m\u001b[0m\u001b[0m\n\u001b[1;32m    862\u001b[0m             \u001b[0;32melse\u001b[0m\u001b[0;34m:\u001b[0m\u001b[0;34m\u001b[0m\u001b[0m\n\u001b[0;32m--> 863\u001b[0;31m                 \u001b[0;32mreturn\u001b[0m \u001b[0mSArray\u001b[0m\u001b[0;34m(\u001b[0m\u001b[0m_proxy\u001b[0m \u001b[0;34m=\u001b[0m \u001b[0mself\u001b[0m\u001b[0;34m.\u001b[0m\u001b[0m__proxy__\u001b[0m\u001b[0;34m.\u001b[0m\u001b[0mleft_scalar_operator\u001b[0m\u001b[0;34m(\u001b[0m\u001b[0mother\u001b[0m\u001b[0;34m,\u001b[0m \u001b[0;34m'>'\u001b[0m\u001b[0;34m)\u001b[0m\u001b[0;34m)\u001b[0m\u001b[0;34m\u001b[0m\u001b[0m\n\u001b[0m\u001b[1;32m    864\u001b[0m \u001b[0;34m\u001b[0m\u001b[0m\n\u001b[1;32m    865\u001b[0m \u001b[0;34m\u001b[0m\u001b[0m\n",
      "\u001b[0;32m/Users/yash/anaconda/envs/dato-env/lib/python2.7/site-packages/graphlab/cython/context.pyc\u001b[0m in \u001b[0;36m__exit__\u001b[0;34m(self, exc_type, exc_value, traceback)\u001b[0m\n\u001b[1;32m     47\u001b[0m             \u001b[0;32mif\u001b[0m \u001b[0;32mnot\u001b[0m \u001b[0mself\u001b[0m\u001b[0;34m.\u001b[0m\u001b[0mshow_cython_trace\u001b[0m\u001b[0;34m:\u001b[0m\u001b[0;34m\u001b[0m\u001b[0m\n\u001b[1;32m     48\u001b[0m                 \u001b[0;31m# To hide cython trace, we re-raise from here\u001b[0m\u001b[0;34m\u001b[0m\u001b[0;34m\u001b[0m\u001b[0m\n\u001b[0;32m---> 49\u001b[0;31m                 \u001b[0;32mraise\u001b[0m \u001b[0mexc_type\u001b[0m\u001b[0;34m(\u001b[0m\u001b[0mexc_value\u001b[0m\u001b[0;34m)\u001b[0m\u001b[0;34m\u001b[0m\u001b[0m\n\u001b[0m\u001b[1;32m     50\u001b[0m             \u001b[0;32melse\u001b[0m\u001b[0;34m:\u001b[0m\u001b[0;34m\u001b[0m\u001b[0m\n\u001b[1;32m     51\u001b[0m                 \u001b[0;31m# To show the full trace, we do nothing and let exception propagate\u001b[0m\u001b[0;34m\u001b[0m\u001b[0;34m\u001b[0m\u001b[0m\n",
      "\u001b[0;31mRuntimeError\u001b[0m: Runtime Exception. Unsupported type operation. cannot perform operation > between integer and string"
     ]
    }
   ],
   "source": [
    "house_sqft=sales[sales['sqft_living'] >'2000' and sales['sqft_living'] <='4000']"
   ]
  },
  {
   "cell_type": "code",
   "execution_count": 17,
   "metadata": {
    "collapsed": false
   },
   "outputs": [
    {
     "ename": "AttributeError",
     "evalue": "'SFrame' object has no attribute 'size'",
     "output_type": "error",
     "traceback": [
      "\u001b[0;31m---------------------------------------------------------------------------\u001b[0m",
      "\u001b[0;31mAttributeError\u001b[0m                            Traceback (most recent call last)",
      "\u001b[0;32m<ipython-input-17-8c5a5932b51e>\u001b[0m in \u001b[0;36m<module>\u001b[0;34m()\u001b[0m\n\u001b[0;32m----> 1\u001b[0;31m \u001b[0msales\u001b[0m\u001b[0;34m.\u001b[0m\u001b[0msize\u001b[0m\u001b[0;34m(\u001b[0m\u001b[0;34m)\u001b[0m\u001b[0;34m\u001b[0m\u001b[0m\n\u001b[0m",
      "\u001b[0;31mAttributeError\u001b[0m: 'SFrame' object has no attribute 'size'"
     ]
    }
   ],
   "source": [
    "sales.size()"
   ]
  },
  {
   "cell_type": "code",
   "execution_count": 18,
   "metadata": {
    "collapsed": false
   },
   "outputs": [
    {
     "ename": "NameError",
     "evalue": "name 'sf' is not defined",
     "output_type": "error",
     "traceback": [
      "\u001b[0;31m---------------------------------------------------------------------------\u001b[0m",
      "\u001b[0;31mNameError\u001b[0m                                 Traceback (most recent call last)",
      "\u001b[0;32m<ipython-input-18-0cc342ce25f3>\u001b[0m in \u001b[0;36m<module>\u001b[0;34m()\u001b[0m\n\u001b[0;32m----> 1\u001b[0;31m \u001b[0msf\u001b[0m\u001b[0;34m[\u001b[0m\u001b[0;34m\"id\"\u001b[0m\u001b[0;34m]\u001b[0m\u001b[0;34m\u001b[0m\u001b[0m\n\u001b[0m",
      "\u001b[0;31mNameError\u001b[0m: name 'sf' is not defined"
     ]
    }
   ],
   "source": [
    "sf[\"id\"]"
   ]
  },
  {
   "cell_type": "code",
   "execution_count": 21,
   "metadata": {
    "collapsed": false
   },
   "outputs": [
    {
     "ename": "TypeError",
     "evalue": "'SFrame' object is not callable",
     "output_type": "error",
     "traceback": [
      "\u001b[0;31m---------------------------------------------------------------------------\u001b[0m",
      "\u001b[0;31mTypeError\u001b[0m                                 Traceback (most recent call last)",
      "\u001b[0;32m<ipython-input-21-f7622f56a1f4>\u001b[0m in \u001b[0;36m<module>\u001b[0;34m()\u001b[0m\n\u001b[0;32m----> 1\u001b[0;31m \u001b[0msf\u001b[0m \u001b[0;34m=\u001b[0m \u001b[0msales\u001b[0m\u001b[0;34m(\u001b[0m\u001b[0msqft_living\u001b[0m\u001b[0;34m=\u001b[0m\u001b[0;34m'2000'\u001b[0m\u001b[0;34m)\u001b[0m\u001b[0;34m\u001b[0m\u001b[0m\n\u001b[0m",
      "\u001b[0;31mTypeError\u001b[0m: 'SFrame' object is not callable"
     ]
    }
   ],
   "source": [
    "sf = sales(sqft_living='2000')"
   ]
  },
  {
   "cell_type": "code",
   "execution_count": 27,
   "metadata": {
    "collapsed": false
   },
   "outputs": [],
   "source": [
    "house_sqft= sales[sales['sqft_living']>2000 and sales['sqft_living']<=4000 ]"
   ]
  },
  {
   "cell_type": "code",
   "execution_count": 31,
   "metadata": {
    "collapsed": false
   },
   "outputs": [
    {
     "data": {
      "text/plain": [
       "20830"
      ]
     },
     "execution_count": 31,
     "metadata": {},
     "output_type": "execute_result"
    }
   ],
   "source": [
    "len(house_sqft)"
   ]
  },
  {
   "cell_type": "code",
   "execution_count": 32,
   "metadata": {
    "collapsed": false
   },
   "outputs": [
    {
     "data": {
      "text/plain": [
       "21613"
      ]
     },
     "execution_count": 32,
     "metadata": {},
     "output_type": "execute_result"
    }
   ],
   "source": [
    "len(sales)"
   ]
  },
  {
   "cell_type": "code",
   "execution_count": 34,
   "metadata": {
    "collapsed": false
   },
   "outputs": [
    {
     "data": {
      "text/plain": [
       "96"
      ]
     },
     "execution_count": 34,
     "metadata": {},
     "output_type": "execute_result"
    }
   ],
   "source": [
    "len(house_sqft)*100/len(sales)"
   ]
  },
  {
   "cell_type": "code",
   "execution_count": 35,
   "metadata": {
    "collapsed": false
   },
   "outputs": [
    {
     "ename": "SyntaxError",
     "evalue": "invalid syntax (<ipython-input-35-fc670ccb35b5>, line 1)",
     "output_type": "error",
     "traceback": [
      "\u001b[0;36m  File \u001b[0;32m\"<ipython-input-35-fc670ccb35b5>\"\u001b[0;36m, line \u001b[0;32m1\u001b[0m\n\u001b[0;31m    advanced_features =\u001b[0m\n\u001b[0m                        ^\u001b[0m\n\u001b[0;31mSyntaxError\u001b[0m\u001b[0;31m:\u001b[0m invalid syntax\n"
     ]
    }
   ],
   "source": [
    "advanced_features = \n",
    "[\n",
    "'bedrooms', 'bathrooms', 'sqft_living', 'sqft_lot', 'floors', 'zipcode',\n",
    "'condition', # condition of house\t\t\t\t\n",
    "'grade', # measure of quality of construction\t\t\t\t\n",
    "'waterfront', # waterfront property\t\t\t\t\n",
    "'view', # type of view\t\t\t\t\n",
    "'sqft_above', # square feet above ground\t\t\t\t\n",
    "'sqft_basement', # square feet in basement\t\t\t\t\n",
    "'yr_built', # the year built\t\t\t\t\n",
    "'yr_renovated', # the year renovated\t\t\t\t\n",
    "'lat', 'long', # the lat-long of the parcel\t\t\t\t\n",
    "'sqft_living15', # average sq.ft. of 15 nearest neighbors \t\t\t\t\n",
    "'sqft_lot15', # average lot size of 15 nearest neighbors \n",
    "]"
   ]
  },
  {
   "cell_type": "code",
   "execution_count": 36,
   "metadata": {
    "collapsed": true
   },
   "outputs": [],
   "source": [
    "advanced_features = [\n",
    "'bedrooms', 'bathrooms', 'sqft_living', 'sqft_lot', 'floors', 'zipcode',\n",
    "'condition', # condition of house\t\t\t\t\n",
    "'grade', # measure of quality of construction\t\t\t\t\n",
    "'waterfront', # waterfront property\t\t\t\t\n",
    "'view', # type of view\t\t\t\t\n",
    "'sqft_above', # square feet above ground\t\t\t\t\n",
    "'sqft_basement', # square feet in basement\t\t\t\t\n",
    "'yr_built', # the year built\t\t\t\t\n",
    "'yr_renovated', # the year renovated\t\t\t\t\n",
    "'lat', 'long', # the lat-long of the parcel\t\t\t\t\n",
    "'sqft_living15', # average sq.ft. of 15 nearest neighbors \t\t\t\t\n",
    "'sqft_lot15', # average lot size of 15 nearest neighbors \n",
    "]"
   ]
  },
  {
   "cell_type": "code",
   "execution_count": 37,
   "metadata": {
    "collapsed": false
   },
   "outputs": [
    {
     "name": "stdout",
     "output_type": "stream",
     "text": [
      "['bedrooms', 'bathrooms', 'sqft_living', 'sqft_lot', 'floors', 'zipcode', 'condition', 'grade', 'waterfront', 'view', 'sqft_above', 'sqft_basement', 'yr_built', 'yr_renovated', 'lat', 'long', 'sqft_living15', 'sqft_lot15']\n"
     ]
    }
   ],
   "source": [
    "print advanced_features"
   ]
  },
  {
   "cell_type": "code",
   "execution_count": 38,
   "metadata": {
    "collapsed": false
   },
   "outputs": [
    {
     "ename": "NameError",
     "evalue": "name 'train_data' is not defined",
     "output_type": "error",
     "traceback": [
      "\u001b[0;31m---------------------------------------------------------------------------\u001b[0m",
      "\u001b[0;31mNameError\u001b[0m                                 Traceback (most recent call last)",
      "\u001b[0;32m<ipython-input-38-f6575d238630>\u001b[0m in \u001b[0;36m<module>\u001b[0;34m()\u001b[0m\n\u001b[0;32m----> 1\u001b[0;31m \u001b[0madvanced_features_model\u001b[0m \u001b[0;34m=\u001b[0m \u001b[0mgraphlab\u001b[0m\u001b[0;34m.\u001b[0m\u001b[0mlinear_regression\u001b[0m\u001b[0;34m.\u001b[0m\u001b[0mcreate\u001b[0m\u001b[0;34m(\u001b[0m\u001b[0mtrain_data\u001b[0m\u001b[0;34m,\u001b[0m \u001b[0mtarget\u001b[0m\u001b[0;34m=\u001b[0m\u001b[0;34m'price'\u001b[0m\u001b[0;34m,\u001b[0m \u001b[0mfeatures\u001b[0m\u001b[0;34m=\u001b[0m\u001b[0madvanced_features\u001b[0m\u001b[0;34m,\u001b[0m\u001b[0mvalidation_set\u001b[0m\u001b[0;34m=\u001b[0m\u001b[0mNone\u001b[0m\u001b[0;34m)\u001b[0m\u001b[0;34m\u001b[0m\u001b[0m\n\u001b[0m",
      "\u001b[0;31mNameError\u001b[0m: name 'train_data' is not defined"
     ]
    }
   ],
   "source": [
    "advanced_features_model = graphlab.linear_regression.create(train_data, target='price', features=advanced_features,validation_set=None)"
   ]
  },
  {
   "cell_type": "code",
   "execution_count": 39,
   "metadata": {
    "collapsed": true
   },
   "outputs": [],
   "source": [
    "train_data,test_data = sales.random_split(.8,seed=0)"
   ]
  },
  {
   "cell_type": "code",
   "execution_count": null,
   "metadata": {
    "collapsed": true
   },
   "outputs": [],
   "source": []
  }
 ],
 "metadata": {
  "kernelspec": {
   "display_name": "Python 2",
   "language": "python",
   "name": "python2"
  },
  "language_info": {
   "codemirror_mode": {
    "name": "ipython",
    "version": 2
   },
   "file_extension": ".py",
   "mimetype": "text/x-python",
   "name": "python",
   "nbconvert_exporter": "python",
   "pygments_lexer": "ipython2",
   "version": "2.7.11"
  }
 },
 "nbformat": 4,
 "nbformat_minor": 0
}
